{
 "cells": [
  {
   "cell_type": "code",
   "execution_count": 8,
   "id": "9f4e952c-82eb-4291-849b-18e637685607",
   "metadata": {},
   "outputs": [],
   "source": [
    "import pandas as pd\n",
    "import gzip"
   ]
  },
  {
   "cell_type": "code",
   "execution_count": 9,
   "id": "7159399c-faa2-4a67-8ad0-dfe5e1948602",
   "metadata": {},
   "outputs": [
    {
     "data": {
      "text/html": [
       "<div>\n",
       "<style scoped>\n",
       "    .dataframe tbody tr th:only-of-type {\n",
       "        vertical-align: middle;\n",
       "    }\n",
       "\n",
       "    .dataframe tbody tr th {\n",
       "        vertical-align: top;\n",
       "    }\n",
       "\n",
       "    .dataframe thead th {\n",
       "        text-align: right;\n",
       "    }\n",
       "</style>\n",
       "<table border=\"1\" class=\"dataframe\">\n",
       "  <thead>\n",
       "    <tr style=\"text-align: right;\">\n",
       "      <th></th>\n",
       "      <th>uid</th>\n",
       "      <th>sid</th>\n",
       "      <th>rating</th>\n",
       "      <th>timestamp</th>\n",
       "    </tr>\n",
       "  </thead>\n",
       "  <tbody>\n",
       "    <tr>\n",
       "      <th>0</th>\n",
       "      <td>AB9S9279OZ3QO</td>\n",
       "      <td>0078764343</td>\n",
       "      <td>5.0</td>\n",
       "      <td>1373155200</td>\n",
       "    </tr>\n",
       "    <tr>\n",
       "      <th>1</th>\n",
       "      <td>A24SSUT5CSW8BH</td>\n",
       "      <td>0078764343</td>\n",
       "      <td>5.0</td>\n",
       "      <td>1377302400</td>\n",
       "    </tr>\n",
       "    <tr>\n",
       "      <th>2</th>\n",
       "      <td>AK3V0HEBJMQ7J</td>\n",
       "      <td>0078764343</td>\n",
       "      <td>4.0</td>\n",
       "      <td>1372896000</td>\n",
       "    </tr>\n",
       "    <tr>\n",
       "      <th>3</th>\n",
       "      <td>A10BECPH7W8HM7</td>\n",
       "      <td>043933702X</td>\n",
       "      <td>5.0</td>\n",
       "      <td>1404950400</td>\n",
       "    </tr>\n",
       "    <tr>\n",
       "      <th>4</th>\n",
       "      <td>A2PRV9OULX1TWP</td>\n",
       "      <td>043933702X</td>\n",
       "      <td>5.0</td>\n",
       "      <td>1386115200</td>\n",
       "    </tr>\n",
       "  </tbody>\n",
       "</table>\n",
       "</div>"
      ],
      "text/plain": [
       "              uid         sid  rating   timestamp\n",
       "0   AB9S9279OZ3QO  0078764343     5.0  1373155200\n",
       "1  A24SSUT5CSW8BH  0078764343     5.0  1377302400\n",
       "2   AK3V0HEBJMQ7J  0078764343     4.0  1372896000\n",
       "3  A10BECPH7W8HM7  043933702X     5.0  1404950400\n",
       "4  A2PRV9OULX1TWP  043933702X     5.0  1386115200"
      ]
     },
     "execution_count": 9,
     "metadata": {},
     "output_type": "execute_result"
    }
   ],
   "source": [
    "# load_rating_df\n",
    "\n",
    "rating_df = pd.read_csv('../data/games/ratings_Video_Games.csv', header=None)\n",
    "rating_df.columns = ['uid', 'sid', 'rating', 'timestamp']\n",
    "rating_df[:5]"
   ]
  },
  {
   "cell_type": "code",
   "execution_count": 10,
   "id": "fd9a3a22-d96e-4cf6-9641-562a4611f5be",
   "metadata": {
    "scrolled": true
   },
   "outputs": [],
   "source": [
    "# load_metadict\n",
    "\n",
    "path = \"../data/games/meta_Video_Games.json.gz\"\n",
    "meta_dict = {}\n",
    "\n",
    "with gzip.open(path, 'rb') as f:\n",
    "    for line in f:\n",
    "        item = eval(line)\n",
    "        if 'title' in item and len(item['title']) > 0:\n",
    "            meta_dict[item['asin'].strip()] = item['title'].strip()\n"
   ]
  },
  {
   "cell_type": "code",
   "execution_count": 11,
   "id": "88d03406",
   "metadata": {},
   "outputs": [
    {
     "name": "stdout",
     "output_type": "stream",
     "text": [
      "0042000742 : 'Reversi Sensory Challenger'\n",
      "0078764343 : 'Medal of Honor: Warfighter - Includes Battlefield 4 Beta - Limited Edition'\n",
      "0276425316 : 'street fighter 2 II turbo super nintendo snes super nes video game'\n",
      "0324411812 : 'Xbox 360 MAS STICK'\n",
      "0439335310 : 'Phonics Alive! 3: The Speller'\n"
     ]
    }
   ],
   "source": [
    "# 5개 출력\n",
    "for i in list(meta_dict.keys())[:5]:\n",
    "    print(f\"{i} : '{meta_dict[i]}'\")"
   ]
  },
  {
   "cell_type": "code",
   "execution_count": 12,
   "id": "3dab4df1-33b4-4656-b8a2-4822b2b02ed8",
   "metadata": {},
   "outputs": [],
   "source": [
    "df = rating_df.copy()\n",
    "meta_raw = meta_dict"
   ]
  },
  {
   "cell_type": "code",
   "execution_count": 13,
   "id": "65ed5b18-4938-44b5-8182-aa69d114300d",
   "metadata": {},
   "outputs": [],
   "source": [
    "min_sc = 2\n",
    "min_uc = 2\n",
    "\n",
    "def filter_triplets(df):\n",
    "    print('Filtering triplets')\n",
    "    if min_sc > 1 or min_uc > 1:\n",
    "        item_sizes = df.groupby('sid').size()\n",
    "        good_items = item_sizes.index[item_sizes >= min_sc]\n",
    "        user_sizes = df.groupby('uid').size()\n",
    "        good_users = user_sizes.index[user_sizes >= min_uc]\n",
    "        while len(good_items) < len(item_sizes) or len(good_users) < len(user_sizes):\n",
    "            if min_sc > 1:\n",
    "                item_sizes = df.groupby('sid').size()\n",
    "                good_items = item_sizes.index[item_sizes >= min_sc]\n",
    "                df = df[df['sid'].isin(good_items)]\n",
    "\n",
    "            if min_uc > 1:\n",
    "                user_sizes = df.groupby('uid').size()\n",
    "                good_users = user_sizes.index[user_sizes >= min_uc]\n",
    "                df = df[df['uid'].isin(good_users)]\n",
    "\n",
    "            item_sizes = df.groupby('sid').size()\n",
    "            good_items = item_sizes.index[item_sizes >= min_sc]\n",
    "            user_sizes = df.groupby('uid').size()\n",
    "            good_users = user_sizes.index[user_sizes >= min_uc]\n",
    "            \n",
    "    return df\n"
   ]
  },
  {
   "cell_type": "code",
   "execution_count": 14,
   "id": "5a075a21-c9c6-4fae-a8e1-916c3713473f",
   "metadata": {},
   "outputs": [
    {
     "name": "stdout",
     "output_type": "stream",
     "text": [
      "Filtering triplets\n"
     ]
    },
    {
     "data": {
      "text/html": [
       "<div>\n",
       "<style scoped>\n",
       "    .dataframe tbody tr th:only-of-type {\n",
       "        vertical-align: middle;\n",
       "    }\n",
       "\n",
       "    .dataframe tbody tr th {\n",
       "        vertical-align: top;\n",
       "    }\n",
       "\n",
       "    .dataframe thead th {\n",
       "        text-align: right;\n",
       "    }\n",
       "</style>\n",
       "<table border=\"1\" class=\"dataframe\">\n",
       "  <thead>\n",
       "    <tr style=\"text-align: right;\">\n",
       "      <th></th>\n",
       "      <th>uid</th>\n",
       "      <th>sid</th>\n",
       "      <th>rating</th>\n",
       "      <th>timestamp</th>\n",
       "    </tr>\n",
       "  </thead>\n",
       "  <tbody>\n",
       "    <tr>\n",
       "      <th>1</th>\n",
       "      <td>A24SSUT5CSW8BH</td>\n",
       "      <td>0078764343</td>\n",
       "      <td>5.0</td>\n",
       "      <td>1377302400</td>\n",
       "    </tr>\n",
       "    <tr>\n",
       "      <th>2</th>\n",
       "      <td>AK3V0HEBJMQ7J</td>\n",
       "      <td>0078764343</td>\n",
       "      <td>4.0</td>\n",
       "      <td>1372896000</td>\n",
       "    </tr>\n",
       "    <tr>\n",
       "      <th>14</th>\n",
       "      <td>A14YVGE643TRJK</td>\n",
       "      <td>043940133X</td>\n",
       "      <td>1.0</td>\n",
       "      <td>1324944000</td>\n",
       "    </tr>\n",
       "    <tr>\n",
       "      <th>16</th>\n",
       "      <td>A3KO10N2ODLHBR</td>\n",
       "      <td>043940133X</td>\n",
       "      <td>5.0</td>\n",
       "      <td>1258329600</td>\n",
       "    </tr>\n",
       "    <tr>\n",
       "      <th>36</th>\n",
       "      <td>AFWPLXT2OD6H1</td>\n",
       "      <td>0439715571</td>\n",
       "      <td>4.0</td>\n",
       "      <td>1169769600</td>\n",
       "    </tr>\n",
       "  </tbody>\n",
       "</table>\n",
       "</div>"
      ],
      "text/plain": [
       "               uid         sid  rating   timestamp\n",
       "1   A24SSUT5CSW8BH  0078764343     5.0  1377302400\n",
       "2    AK3V0HEBJMQ7J  0078764343     4.0  1372896000\n",
       "14  A14YVGE643TRJK  043940133X     1.0  1324944000\n",
       "16  A3KO10N2ODLHBR  043940133X     5.0  1258329600\n",
       "36   AFWPLXT2OD6H1  0439715571     4.0  1169769600"
      ]
     },
     "execution_count": 14,
     "metadata": {},
     "output_type": "execute_result"
    }
   ],
   "source": [
    "df = df[df['sid'].isin(meta_raw)]  # filter items without meta info\n",
    "df = filter_triplets(df)\n",
    "\n",
    "df.head()"
   ]
  },
  {
   "cell_type": "code",
   "execution_count": 15,
   "id": "7cf1decd",
   "metadata": {},
   "outputs": [],
   "source": [
    "# 정수 값 밀집화\n",
    "def densify_index(df):\n",
    "    print('Densifying index')\n",
    "    umap = {u: i for i, u in enumerate(set(df['uid']), start=1)}\n",
    "    smap = {s: i for i, s in enumerate(set(df['sid']), start=1)}\n",
    "    df['uid'] = df['uid'].map(umap)\n",
    "    df['sid'] = df['sid'].map(smap)\n",
    "    return df, umap, smap\n",
    "\n",
    "# train, val, test 데이터 분리\n",
    "def split_df(df, user_count):\n",
    "    print('Splitting')\n",
    "    user_group = df.groupby('uid')\n",
    "    user2items = user_group.apply(\n",
    "        lambda d: list(d.sort_values(by=['timestamp', 'sid'])['sid']))\n",
    "    train, val, test = {}, {}, {}\n",
    "    for i in range(user_count):\n",
    "        user = i + 1\n",
    "        items = user2items[user]\n",
    "        train[user], val[user], test[user] = items[:-2], items[-2:-1], items[-1:]\n",
    "    return train, val, test"
   ]
  },
  {
   "cell_type": "code",
   "execution_count": 16,
   "id": "ec9eb6f3",
   "metadata": {},
   "outputs": [
    {
     "name": "stdout",
     "output_type": "stream",
     "text": [
      "Densifying index\n",
      "Splitting\n"
     ]
    },
    {
     "name": "stderr",
     "output_type": "stream",
     "text": [
      "C:\\Users\\sinny\\AppData\\Local\\Temp\\ipykernel_27000\\4138822388.py:14: DeprecationWarning: DataFrameGroupBy.apply operated on the grouping columns. This behavior is deprecated, and in a future version of pandas the grouping columns will be excluded from the operation. Either pass `include_groups=False` to exclude the groupings or explicitly select the grouping columns after groupby to silence this warning.\n",
      "  user2items = user_group.apply(\n"
     ]
    }
   ],
   "source": [
    "df, umap, smap = densify_index(df)\n",
    "train, val, test = split_df(df, len(umap))"
   ]
  },
  {
   "cell_type": "code",
   "execution_count": 17,
   "id": "de70e15b",
   "metadata": {},
   "outputs": [],
   "source": [
    "meta = {smap[k]: v for k, v in meta_dict.items() if k in smap}"
   ]
  },
  {
   "cell_type": "code",
   "execution_count": 18,
   "id": "ac13e938",
   "metadata": {},
   "outputs": [
    {
     "name": "stdout",
     "output_type": "stream",
     "text": [
      "20508 : 'Medal of Honor: Warfighter - Includes Battlefield 4 Beta - Limited Edition'\n",
      "5612 : 'Star Wars Math: Jabba's Game Galaxy'\n",
      "7998 : 'Mortal Kombat 4'\n",
      "22828 : 'Video Game Tycoon Gold Edition'\n",
      "7575 : 'Anno 2070'\n"
     ]
    }
   ],
   "source": [
    "# 5개 출력\n",
    "for i in list(meta.keys())[:5]:\n",
    "    print(f\"{i} : '{meta[i]}'\")"
   ]
  },
  {
   "cell_type": "code",
   "execution_count": 19,
   "id": "07154331",
   "metadata": {},
   "outputs": [],
   "source": [
    "dataset = {'train': train,\n",
    "           'val': val,\n",
    "           'test': test,\n",
    "           'meta': meta,\n",
    "           'umap': umap,\n",
    "           'smap': smap}"
   ]
  },
  {
   "cell_type": "code",
   "execution_count": 20,
   "id": "03bccf55",
   "metadata": {},
   "outputs": [
    {
     "name": "stdout",
     "output_type": "stream",
     "text": [
      "1 : '[]'\n",
      "2 : '[]'\n",
      "3 : '[12615, 23621, 2919, 13461]'\n",
      "4 : '[19783, 13992, 17998, 21950, 6054, 22052, 612, 1880]'\n",
      "5 : '[83, 3940, 8752, 19440]'\n"
     ]
    }
   ],
   "source": [
    "for i in list(train.keys())[:5]:\n",
    "    print(f\"{i} : '{train[i]}'\")"
   ]
  },
  {
   "cell_type": "code",
   "execution_count": 21,
   "id": "754ac17a",
   "metadata": {},
   "outputs": [
    {
     "name": "stdout",
     "output_type": "stream",
     "text": [
      "1 : '[9941]'\n",
      "2 : '[9855]'\n",
      "3 : '[9583]'\n",
      "4 : '[3844]'\n",
      "5 : '[9971]'\n"
     ]
    }
   ],
   "source": [
    "for i in list(val.keys())[:5]:\n",
    "    print(f\"{i} : '{val[i]}'\")"
   ]
  },
  {
   "cell_type": "code",
   "execution_count": 22,
   "id": "87c5ddfe",
   "metadata": {},
   "outputs": [
    {
     "name": "stdout",
     "output_type": "stream",
     "text": [
      "1 : '[10844]'\n",
      "2 : '[2801]'\n",
      "3 : '[18940]'\n",
      "4 : '[22611]'\n",
      "5 : '[9236]'\n"
     ]
    }
   ],
   "source": [
    "for i in list(test.keys())[:5]:\n",
    "    print(f\"{i} : '{test[i]}'\")"
   ]
  },
  {
   "cell_type": "code",
   "execution_count": 23,
   "id": "eabc9cb4",
   "metadata": {},
   "outputs": [
    {
     "name": "stdout",
     "output_type": "stream",
     "text": [
      "20508 : 'Medal of Honor: Warfighter - Includes Battlefield 4 Beta - Limited Edition'\n",
      "5612 : 'Star Wars Math: Jabba's Game Galaxy'\n",
      "7998 : 'Mortal Kombat 4'\n",
      "22828 : 'Video Game Tycoon Gold Edition'\n",
      "7575 : 'Anno 2070'\n"
     ]
    }
   ],
   "source": [
    "for i in list(meta.keys())[:5]:\n",
    "    print(f\"{i} : '{meta[i]}'\")"
   ]
  },
  {
   "cell_type": "code",
   "execution_count": 24,
   "id": "46981ae1",
   "metadata": {},
   "outputs": [
    {
     "name": "stdout",
     "output_type": "stream",
     "text": [
      "A3TS4JF2UUH3E7 : '1'\n",
      "A3L5A35WZI3CE7 : '2'\n",
      "A31VTQKR7OXD9E : '3'\n",
      "A1FOACA8KHBA9W : '4'\n",
      "A2GLTGOPI3Y3ER : '5'\n"
     ]
    }
   ],
   "source": [
    "for i in list(umap.keys())[:5]:\n",
    "    print(f\"{i} : '{umap[i]}'\")"
   ]
  },
  {
   "cell_type": "code",
   "execution_count": 25,
   "id": "c8fa3b0d",
   "metadata": {},
   "outputs": [
    {
     "name": "stdout",
     "output_type": "stream",
     "text": [
      "B00BIY3VEE : '1'\n",
      "B005J3J3YW : '2'\n",
      "B000038I9Q : '3'\n",
      "B004LQSOGQ : '4'\n",
      "B00007LVJA : '5'\n"
     ]
    }
   ],
   "source": [
    "for i in list(smap.keys())[:5]:\n",
    "    print(f\"{i} : '{smap[i]}'\")"
   ]
  }
 ],
 "metadata": {
  "kernelspec": {
   "display_name": "llama3",
   "language": "python",
   "name": "python3"
  },
  "language_info": {
   "codemirror_mode": {
    "name": "ipython",
    "version": 3
   },
   "file_extension": ".py",
   "mimetype": "text/x-python",
   "name": "python",
   "nbconvert_exporter": "python",
   "pygments_lexer": "ipython3",
   "version": "3.11.0"
  }
 },
 "nbformat": 4,
 "nbformat_minor": 5
}
