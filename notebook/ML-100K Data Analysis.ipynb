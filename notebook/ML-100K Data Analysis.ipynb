{
 "cells": [
  {
   "cell_type": "code",
   "execution_count": 49,
   "id": "f9f2c9f8",
   "metadata": {},
   "outputs": [],
   "source": [
    "import pandas as pd\n",
    "import numpy as np"
   ]
  },
  {
   "cell_type": "code",
   "execution_count": 50,
   "id": "03c770a3-e556-4a8c-8afe-3b87580fb474",
   "metadata": {},
   "outputs": [],
   "source": [
    "import re"
   ]
  },
  {
   "cell_type": "code",
   "execution_count": 51,
   "id": "2d9f614d",
   "metadata": {},
   "outputs": [],
   "source": [
    "links = pd.read_csv(\"../data/ml-100k/ml-latest-small/links.csv\")\n",
    "movies = pd.read_csv(\"../data/ml-100k/ml-latest-small/movies.csv\")\n",
    "ratings = pd.read_csv(\"../data/ml-100k/ml-latest-small/ratings.csv\")\n",
    "tags = pd.read_csv(\"../data/ml-100k/ml-latest-small/tags.csv\")"
   ]
  },
  {
   "cell_type": "markdown",
   "id": "af2f00a1-ce5a-4fb4-a11f-2d3f99411dc5",
   "metadata": {},
   "source": [
    "** link.csv 는 사용안하는듯 **"
   ]
  },
  {
   "cell_type": "code",
   "execution_count": 52,
   "id": "56a42839",
   "metadata": {},
   "outputs": [
    {
     "data": {
      "text/html": [
       "<div>\n",
       "<style scoped>\n",
       "    .dataframe tbody tr th:only-of-type {\n",
       "        vertical-align: middle;\n",
       "    }\n",
       "\n",
       "    .dataframe tbody tr th {\n",
       "        vertical-align: top;\n",
       "    }\n",
       "\n",
       "    .dataframe thead th {\n",
       "        text-align: right;\n",
       "    }\n",
       "</style>\n",
       "<table border=\"1\" class=\"dataframe\">\n",
       "  <thead>\n",
       "    <tr style=\"text-align: right;\">\n",
       "      <th></th>\n",
       "      <th>movieId</th>\n",
       "      <th>imdbId</th>\n",
       "      <th>tmdbId</th>\n",
       "    </tr>\n",
       "  </thead>\n",
       "  <tbody>\n",
       "    <tr>\n",
       "      <th>0</th>\n",
       "      <td>1</td>\n",
       "      <td>114709</td>\n",
       "      <td>862.0</td>\n",
       "    </tr>\n",
       "    <tr>\n",
       "      <th>1</th>\n",
       "      <td>2</td>\n",
       "      <td>113497</td>\n",
       "      <td>8844.0</td>\n",
       "    </tr>\n",
       "    <tr>\n",
       "      <th>2</th>\n",
       "      <td>3</td>\n",
       "      <td>113228</td>\n",
       "      <td>15602.0</td>\n",
       "    </tr>\n",
       "    <tr>\n",
       "      <th>3</th>\n",
       "      <td>4</td>\n",
       "      <td>114885</td>\n",
       "      <td>31357.0</td>\n",
       "    </tr>\n",
       "    <tr>\n",
       "      <th>4</th>\n",
       "      <td>5</td>\n",
       "      <td>113041</td>\n",
       "      <td>11862.0</td>\n",
       "    </tr>\n",
       "  </tbody>\n",
       "</table>\n",
       "</div>"
      ],
      "text/plain": [
       "   movieId  imdbId   tmdbId\n",
       "0        1  114709    862.0\n",
       "1        2  113497   8844.0\n",
       "2        3  113228  15602.0\n",
       "3        4  114885  31357.0\n",
       "4        5  113041  11862.0"
      ]
     },
     "execution_count": 52,
     "metadata": {},
     "output_type": "execute_result"
    }
   ],
   "source": [
    "links.head()"
   ]
  },
  {
   "cell_type": "code",
   "execution_count": 53,
   "id": "c4b7c349",
   "metadata": {},
   "outputs": [
    {
     "data": {
      "text/html": [
       "<div>\n",
       "<style scoped>\n",
       "    .dataframe tbody tr th:only-of-type {\n",
       "        vertical-align: middle;\n",
       "    }\n",
       "\n",
       "    .dataframe tbody tr th {\n",
       "        vertical-align: top;\n",
       "    }\n",
       "\n",
       "    .dataframe thead th {\n",
       "        text-align: right;\n",
       "    }\n",
       "</style>\n",
       "<table border=\"1\" class=\"dataframe\">\n",
       "  <thead>\n",
       "    <tr style=\"text-align: right;\">\n",
       "      <th></th>\n",
       "      <th>movieId</th>\n",
       "      <th>title</th>\n",
       "      <th>genres</th>\n",
       "    </tr>\n",
       "  </thead>\n",
       "  <tbody>\n",
       "    <tr>\n",
       "      <th>0</th>\n",
       "      <td>1</td>\n",
       "      <td>Toy Story (1995)</td>\n",
       "      <td>Adventure|Animation|Children|Comedy|Fantasy</td>\n",
       "    </tr>\n",
       "    <tr>\n",
       "      <th>1</th>\n",
       "      <td>2</td>\n",
       "      <td>Jumanji (1995)</td>\n",
       "      <td>Adventure|Children|Fantasy</td>\n",
       "    </tr>\n",
       "    <tr>\n",
       "      <th>2</th>\n",
       "      <td>3</td>\n",
       "      <td>Grumpier Old Men (1995)</td>\n",
       "      <td>Comedy|Romance</td>\n",
       "    </tr>\n",
       "    <tr>\n",
       "      <th>3</th>\n",
       "      <td>4</td>\n",
       "      <td>Waiting to Exhale (1995)</td>\n",
       "      <td>Comedy|Drama|Romance</td>\n",
       "    </tr>\n",
       "    <tr>\n",
       "      <th>4</th>\n",
       "      <td>5</td>\n",
       "      <td>Father of the Bride Part II (1995)</td>\n",
       "      <td>Comedy</td>\n",
       "    </tr>\n",
       "  </tbody>\n",
       "</table>\n",
       "</div>"
      ],
      "text/plain": [
       "   movieId                               title  \\\n",
       "0        1                    Toy Story (1995)   \n",
       "1        2                      Jumanji (1995)   \n",
       "2        3             Grumpier Old Men (1995)   \n",
       "3        4            Waiting to Exhale (1995)   \n",
       "4        5  Father of the Bride Part II (1995)   \n",
       "\n",
       "                                        genres  \n",
       "0  Adventure|Animation|Children|Comedy|Fantasy  \n",
       "1                   Adventure|Children|Fantasy  \n",
       "2                               Comedy|Romance  \n",
       "3                         Comedy|Drama|Romance  \n",
       "4                                       Comedy  "
      ]
     },
     "execution_count": 53,
     "metadata": {},
     "output_type": "execute_result"
    }
   ],
   "source": [
    "movies.head()"
   ]
  },
  {
   "cell_type": "code",
   "execution_count": 54,
   "id": "2716e5c2",
   "metadata": {},
   "outputs": [
    {
     "data": {
      "text/html": [
       "<div>\n",
       "<style scoped>\n",
       "    .dataframe tbody tr th:only-of-type {\n",
       "        vertical-align: middle;\n",
       "    }\n",
       "\n",
       "    .dataframe tbody tr th {\n",
       "        vertical-align: top;\n",
       "    }\n",
       "\n",
       "    .dataframe thead th {\n",
       "        text-align: right;\n",
       "    }\n",
       "</style>\n",
       "<table border=\"1\" class=\"dataframe\">\n",
       "  <thead>\n",
       "    <tr style=\"text-align: right;\">\n",
       "      <th></th>\n",
       "      <th>userId</th>\n",
       "      <th>movieId</th>\n",
       "      <th>rating</th>\n",
       "      <th>timestamp</th>\n",
       "    </tr>\n",
       "  </thead>\n",
       "  <tbody>\n",
       "    <tr>\n",
       "      <th>0</th>\n",
       "      <td>1</td>\n",
       "      <td>1</td>\n",
       "      <td>4.0</td>\n",
       "      <td>964982703</td>\n",
       "    </tr>\n",
       "    <tr>\n",
       "      <th>1</th>\n",
       "      <td>1</td>\n",
       "      <td>3</td>\n",
       "      <td>4.0</td>\n",
       "      <td>964981247</td>\n",
       "    </tr>\n",
       "    <tr>\n",
       "      <th>2</th>\n",
       "      <td>1</td>\n",
       "      <td>6</td>\n",
       "      <td>4.0</td>\n",
       "      <td>964982224</td>\n",
       "    </tr>\n",
       "    <tr>\n",
       "      <th>3</th>\n",
       "      <td>1</td>\n",
       "      <td>47</td>\n",
       "      <td>5.0</td>\n",
       "      <td>964983815</td>\n",
       "    </tr>\n",
       "    <tr>\n",
       "      <th>4</th>\n",
       "      <td>1</td>\n",
       "      <td>50</td>\n",
       "      <td>5.0</td>\n",
       "      <td>964982931</td>\n",
       "    </tr>\n",
       "  </tbody>\n",
       "</table>\n",
       "</div>"
      ],
      "text/plain": [
       "   userId  movieId  rating  timestamp\n",
       "0       1        1     4.0  964982703\n",
       "1       1        3     4.0  964981247\n",
       "2       1        6     4.0  964982224\n",
       "3       1       47     5.0  964983815\n",
       "4       1       50     5.0  964982931"
      ]
     },
     "execution_count": 54,
     "metadata": {},
     "output_type": "execute_result"
    }
   ],
   "source": [
    "ratings.head()"
   ]
  },
  {
   "cell_type": "code",
   "execution_count": 55,
   "id": "753c9755",
   "metadata": {},
   "outputs": [
    {
     "data": {
      "text/html": [
       "<div>\n",
       "<style scoped>\n",
       "    .dataframe tbody tr th:only-of-type {\n",
       "        vertical-align: middle;\n",
       "    }\n",
       "\n",
       "    .dataframe tbody tr th {\n",
       "        vertical-align: top;\n",
       "    }\n",
       "\n",
       "    .dataframe thead th {\n",
       "        text-align: right;\n",
       "    }\n",
       "</style>\n",
       "<table border=\"1\" class=\"dataframe\">\n",
       "  <thead>\n",
       "    <tr style=\"text-align: right;\">\n",
       "      <th></th>\n",
       "      <th>userId</th>\n",
       "      <th>movieId</th>\n",
       "      <th>tag</th>\n",
       "      <th>timestamp</th>\n",
       "    </tr>\n",
       "  </thead>\n",
       "  <tbody>\n",
       "    <tr>\n",
       "      <th>0</th>\n",
       "      <td>2</td>\n",
       "      <td>60756</td>\n",
       "      <td>funny</td>\n",
       "      <td>1445714994</td>\n",
       "    </tr>\n",
       "    <tr>\n",
       "      <th>1</th>\n",
       "      <td>2</td>\n",
       "      <td>60756</td>\n",
       "      <td>Highly quotable</td>\n",
       "      <td>1445714996</td>\n",
       "    </tr>\n",
       "    <tr>\n",
       "      <th>2</th>\n",
       "      <td>2</td>\n",
       "      <td>60756</td>\n",
       "      <td>will ferrell</td>\n",
       "      <td>1445714992</td>\n",
       "    </tr>\n",
       "    <tr>\n",
       "      <th>3</th>\n",
       "      <td>2</td>\n",
       "      <td>89774</td>\n",
       "      <td>Boxing story</td>\n",
       "      <td>1445715207</td>\n",
       "    </tr>\n",
       "    <tr>\n",
       "      <th>4</th>\n",
       "      <td>2</td>\n",
       "      <td>89774</td>\n",
       "      <td>MMA</td>\n",
       "      <td>1445715200</td>\n",
       "    </tr>\n",
       "  </tbody>\n",
       "</table>\n",
       "</div>"
      ],
      "text/plain": [
       "   userId  movieId              tag   timestamp\n",
       "0       2    60756            funny  1445714994\n",
       "1       2    60756  Highly quotable  1445714996\n",
       "2       2    60756     will ferrell  1445714992\n",
       "3       2    89774     Boxing story  1445715207\n",
       "4       2    89774              MMA  1445715200"
      ]
     },
     "execution_count": 55,
     "metadata": {},
     "output_type": "execute_result"
    }
   ],
   "source": [
    "tags.head()"
   ]
  },
  {
   "cell_type": "code",
   "execution_count": 56,
   "id": "c912a8b0-2d1c-4472-a030-084c261d7eef",
   "metadata": {},
   "outputs": [
    {
     "data": {
      "text/html": [
       "<div>\n",
       "<style scoped>\n",
       "    .dataframe tbody tr th:only-of-type {\n",
       "        vertical-align: middle;\n",
       "    }\n",
       "\n",
       "    .dataframe tbody tr th {\n",
       "        vertical-align: top;\n",
       "    }\n",
       "\n",
       "    .dataframe thead th {\n",
       "        text-align: right;\n",
       "    }\n",
       "</style>\n",
       "<table border=\"1\" class=\"dataframe\">\n",
       "  <thead>\n",
       "    <tr style=\"text-align: right;\">\n",
       "      <th></th>\n",
       "      <th>uid</th>\n",
       "      <th>sid</th>\n",
       "      <th>rating</th>\n",
       "      <th>timestamp</th>\n",
       "    </tr>\n",
       "  </thead>\n",
       "  <tbody>\n",
       "    <tr>\n",
       "      <th>0</th>\n",
       "      <td>1</td>\n",
       "      <td>1</td>\n",
       "      <td>4.0</td>\n",
       "      <td>964982703</td>\n",
       "    </tr>\n",
       "    <tr>\n",
       "      <th>1</th>\n",
       "      <td>1</td>\n",
       "      <td>3</td>\n",
       "      <td>4.0</td>\n",
       "      <td>964981247</td>\n",
       "    </tr>\n",
       "    <tr>\n",
       "      <th>2</th>\n",
       "      <td>1</td>\n",
       "      <td>6</td>\n",
       "      <td>4.0</td>\n",
       "      <td>964982224</td>\n",
       "    </tr>\n",
       "    <tr>\n",
       "      <th>3</th>\n",
       "      <td>1</td>\n",
       "      <td>47</td>\n",
       "      <td>5.0</td>\n",
       "      <td>964983815</td>\n",
       "    </tr>\n",
       "    <tr>\n",
       "      <th>4</th>\n",
       "      <td>1</td>\n",
       "      <td>50</td>\n",
       "      <td>5.0</td>\n",
       "      <td>964982931</td>\n",
       "    </tr>\n",
       "  </tbody>\n",
       "</table>\n",
       "</div>"
      ],
      "text/plain": [
       "   uid  sid  rating  timestamp\n",
       "0    1    1     4.0  964982703\n",
       "1    1    3     4.0  964981247\n",
       "2    1    6     4.0  964982224\n",
       "3    1   47     5.0  964983815\n",
       "4    1   50     5.0  964982931"
      ]
     },
     "execution_count": 56,
     "metadata": {},
     "output_type": "execute_result"
    }
   ],
   "source": [
    "# load_ratings_df\n",
    "\n",
    "df = pd.read_csv(\"../data/ml-100k/ml-latest-small/ratings.csv\")\n",
    "df.columns = ['uid', 'sid', 'rating', 'timestamp']\n",
    "df.head()"
   ]
  },
  {
   "cell_type": "code",
   "execution_count": 57,
   "id": "a2e031ff-ec32-4a64-ba79-9bf940e6d354",
   "metadata": {
    "scrolled": true
   },
   "outputs": [],
   "source": [
    "# load_meta_dict (dataframe -> dictionary)\n",
    "\n",
    "movies_df = pd.read_csv(\"../data/ml-100k/ml-latest-small/movies.csv\")\n",
    "meta_dict = {}\n",
    "for row in movies_df.itertuples():\n",
    "    title = row[2][:-7] # remove year (optional)\n",
    "    year = row[2][-7:]\n",
    "\n",
    "    title = re.sub('\\(.*?\\)', '', title).strip()\n",
    "\n",
    "    if any(', ' + x in title.lower()[-5:] for x in ['a', 'an', 'the']):\n",
    "        title_pre = title.split(', ')[:-1]\n",
    "        title_post = title.split(', ')[-1]\n",
    "        title_pre = ', '.join(title_pre)\n",
    "\n",
    "        title = title_post + ' ' + title_pre\n",
    "\n",
    "    meta_dict[row[1]] = title + year\n"
   ]
  },
  {
   "cell_type": "code",
   "execution_count": 58,
   "id": "693953f2",
   "metadata": {},
   "outputs": [
    {
     "name": "stdout",
     "output_type": "stream",
     "text": [
      "1 : 'Toy Story (1995)'\n",
      "2 : 'Jumanji (1995)'\n",
      "3 : 'Grumpier Old Men (1995)'\n",
      "4 : 'Waiting to Exhale (1995)'\n",
      "5 : 'Father of the Bride Part II (1995)'\n"
     ]
    }
   ],
   "source": [
    "# 5개 출력\n",
    "for i in list(meta_dict.keys())[:5]:\n",
    "    print(f\"{i} : '{meta_dict[i]}'\")"
   ]
  },
  {
   "cell_type": "code",
   "execution_count": 59,
   "id": "28484269-fb14-4ae1-8cfb-484a3fefd652",
   "metadata": {},
   "outputs": [],
   "source": [
    "df = df[df['sid'].isin(meta_dict)]"
   ]
  },
  {
   "cell_type": "code",
   "execution_count": 60,
   "id": "fb74944c-ca4b-4b3b-a559-6e9941c96eb0",
   "metadata": {},
   "outputs": [
    {
     "data": {
      "text/html": [
       "<div>\n",
       "<style scoped>\n",
       "    .dataframe tbody tr th:only-of-type {\n",
       "        vertical-align: middle;\n",
       "    }\n",
       "\n",
       "    .dataframe tbody tr th {\n",
       "        vertical-align: top;\n",
       "    }\n",
       "\n",
       "    .dataframe thead th {\n",
       "        text-align: right;\n",
       "    }\n",
       "</style>\n",
       "<table border=\"1\" class=\"dataframe\">\n",
       "  <thead>\n",
       "    <tr style=\"text-align: right;\">\n",
       "      <th></th>\n",
       "      <th>uid</th>\n",
       "      <th>sid</th>\n",
       "      <th>rating</th>\n",
       "      <th>timestamp</th>\n",
       "    </tr>\n",
       "  </thead>\n",
       "  <tbody>\n",
       "    <tr>\n",
       "      <th>0</th>\n",
       "      <td>1</td>\n",
       "      <td>1</td>\n",
       "      <td>4.0</td>\n",
       "      <td>964982703</td>\n",
       "    </tr>\n",
       "    <tr>\n",
       "      <th>1</th>\n",
       "      <td>1</td>\n",
       "      <td>3</td>\n",
       "      <td>4.0</td>\n",
       "      <td>964981247</td>\n",
       "    </tr>\n",
       "    <tr>\n",
       "      <th>2</th>\n",
       "      <td>1</td>\n",
       "      <td>6</td>\n",
       "      <td>4.0</td>\n",
       "      <td>964982224</td>\n",
       "    </tr>\n",
       "    <tr>\n",
       "      <th>3</th>\n",
       "      <td>1</td>\n",
       "      <td>47</td>\n",
       "      <td>5.0</td>\n",
       "      <td>964983815</td>\n",
       "    </tr>\n",
       "    <tr>\n",
       "      <th>4</th>\n",
       "      <td>1</td>\n",
       "      <td>50</td>\n",
       "      <td>5.0</td>\n",
       "      <td>964982931</td>\n",
       "    </tr>\n",
       "  </tbody>\n",
       "</table>\n",
       "</div>"
      ],
      "text/plain": [
       "   uid  sid  rating  timestamp\n",
       "0    1    1     4.0  964982703\n",
       "1    1    3     4.0  964981247\n",
       "2    1    6     4.0  964982224\n",
       "3    1   47     5.0  964983815\n",
       "4    1   50     5.0  964982931"
      ]
     },
     "execution_count": 60,
     "metadata": {},
     "output_type": "execute_result"
    }
   ],
   "source": [
    "df.head()"
   ]
  },
  {
   "cell_type": "code",
   "execution_count": 61,
   "id": "b390e12b-c26c-4642-8546-8b35d34fee92",
   "metadata": {},
   "outputs": [
    {
     "data": {
      "text/html": [
       "<div>\n",
       "<style scoped>\n",
       "    .dataframe tbody tr th:only-of-type {\n",
       "        vertical-align: middle;\n",
       "    }\n",
       "\n",
       "    .dataframe tbody tr th {\n",
       "        vertical-align: top;\n",
       "    }\n",
       "\n",
       "    .dataframe thead th {\n",
       "        text-align: right;\n",
       "    }\n",
       "</style>\n",
       "<table border=\"1\" class=\"dataframe\">\n",
       "  <thead>\n",
       "    <tr style=\"text-align: right;\">\n",
       "      <th></th>\n",
       "      <th>uid</th>\n",
       "      <th>sid</th>\n",
       "      <th>rating</th>\n",
       "      <th>timestamp</th>\n",
       "    </tr>\n",
       "  </thead>\n",
       "  <tbody>\n",
       "    <tr>\n",
       "      <th>0</th>\n",
       "      <td>1</td>\n",
       "      <td>1</td>\n",
       "      <td>4.0</td>\n",
       "      <td>964982703</td>\n",
       "    </tr>\n",
       "    <tr>\n",
       "      <th>1</th>\n",
       "      <td>1</td>\n",
       "      <td>3</td>\n",
       "      <td>4.0</td>\n",
       "      <td>964981247</td>\n",
       "    </tr>\n",
       "    <tr>\n",
       "      <th>2</th>\n",
       "      <td>1</td>\n",
       "      <td>6</td>\n",
       "      <td>4.0</td>\n",
       "      <td>964982224</td>\n",
       "    </tr>\n",
       "    <tr>\n",
       "      <th>3</th>\n",
       "      <td>1</td>\n",
       "      <td>47</td>\n",
       "      <td>5.0</td>\n",
       "      <td>964983815</td>\n",
       "    </tr>\n",
       "    <tr>\n",
       "      <th>4</th>\n",
       "      <td>1</td>\n",
       "      <td>50</td>\n",
       "      <td>5.0</td>\n",
       "      <td>964982931</td>\n",
       "    </tr>\n",
       "  </tbody>\n",
       "</table>\n",
       "</div>"
      ],
      "text/plain": [
       "   uid  sid  rating  timestamp\n",
       "0    1    1     4.0  964982703\n",
       "1    1    3     4.0  964981247\n",
       "2    1    6     4.0  964982224\n",
       "3    1   47     5.0  964983815\n",
       "4    1   50     5.0  964982931"
      ]
     },
     "execution_count": 61,
     "metadata": {},
     "output_type": "execute_result"
    }
   ],
   "source": [
    "# densify_index\n",
    "\n",
    "umap = {u: i for i, u in enumerate(set(df['uid']), start=1)}\n",
    "smap = {s: i for i, s in enumerate(set(df['sid']), start=1)}\n",
    "\n",
    "df['uid'] = df['uid'].map(umap)\n",
    "df['sid'] = df['sid'].map(smap)\n",
    "\n",
    "df.head()"
   ]
  },
  {
   "cell_type": "code",
   "execution_count": 62,
   "id": "ce67a3fb-77a7-4dd2-b26e-4bbccc58277c",
   "metadata": {},
   "outputs": [
    {
     "name": "stderr",
     "output_type": "stream",
     "text": [
      "C:\\Users\\sinny\\AppData\\Local\\Temp\\ipykernel_18272\\2941478546.py:5: DeprecationWarning: DataFrameGroupBy.apply operated on the grouping columns. This behavior is deprecated, and in a future version of pandas the grouping columns will be excluded from the operation. Either pass `include_groups=False` to exclude the groupings or explicitly select the grouping columns after groupby to silence this warning.\n",
      "  user2items = user_group.apply(\n"
     ]
    }
   ],
   "source": [
    "# split_df\n",
    "\n",
    "user_count = len(umap)\n",
    "user_group = df.groupby('uid')\n",
    "user2items = user_group.apply(\n",
    "    lambda d: list(d.sort_values(by=['timestamp', 'sid'])['sid']))\n",
    "\n",
    "train, val, test = {}, {}, {}\n",
    "for i in range(user_count):\n",
    "    user = i + 1\n",
    "    items = user2items[user]\n",
    "    # train은 첫번째 ~ 맨뒤 + 2 사이의 값들 (list)\n",
    "    # val은 맨뒤에서 2번째 값\n",
    "    # test은 맨뒤 값\n",
    "    train[user], val[user], test[user] = items[:-2], items[-2:-1], items[-1:]"
   ]
  },
  {
   "cell_type": "code",
   "execution_count": 63,
   "id": "35f5c6b0-8810-459d-bf29-a68e2a4f80bf",
   "metadata": {},
   "outputs": [],
   "source": [
    "meta = {smap[k]: v for k, v in meta_dict.items() if k in smap}"
   ]
  },
  {
   "cell_type": "code",
   "execution_count": 64,
   "id": "e67c5da5",
   "metadata": {},
   "outputs": [
    {
     "name": "stdout",
     "output_type": "stream",
     "text": [
      "1 : 'Toy Story (1995)'\n",
      "2 : 'Jumanji (1995)'\n",
      "3 : 'Grumpier Old Men (1995)'\n",
      "4 : 'Waiting to Exhale (1995)'\n",
      "5 : 'Father of the Bride Part II (1995)'\n"
     ]
    }
   ],
   "source": [
    "# 5개 출력\n",
    "for i in list(meta_dict.keys())[:5]:\n",
    "    print(f\"{i} : '{meta[i]}'\")"
   ]
  },
  {
   "cell_type": "code",
   "execution_count": 65,
   "id": "9da84625-2a89-464c-af17-92c3f1ef2d7e",
   "metadata": {},
   "outputs": [],
   "source": [
    "dataset = {\n",
    "    'train': train,\n",
    "    'val': val,\n",
    "    'test': test,\n",
    "    'meta': meta,\n",
    "    'umap': umap,\n",
    "    'smap': smap\n",
    "}"
   ]
  },
  {
   "cell_type": "code",
   "execution_count": 68,
   "id": "85901534",
   "metadata": {},
   "outputs": [
    {
     "name": "stdout",
     "output_type": "stream",
     "text": [
      "1 : '[710, 1033, 1705, 2241, 2416, 3033, 3062, 3176, 99, 423, 2437, 1269, 2563, 223, 921, 342, 212, 1289, 2297, 2039, 2765, 1303, 2774, 1345, 1480, 2213, 2931, 219, 319, 519, 905, 205, 478, 2612, 3236, 1514, 3, 2167, 2132, 935, 983, 1522, 1079, 1616, 805, 3103, 248, 931, 952, 1853, 2451, 353, 1654, 1692, 1774, 1841, 1872, 2388, 1786, 1824, 2956, 1738, 616, 872, 1909, 2961, 1609, 2920, 2921, 1019, 1021, 1037, 2289, 3223, 1020, 2513, 2622, 1715, 2192, 2518, 439, 1043, 1045, 1114, 3135, 108, 821, 1641, 2516, 2517, 1687, 6, 2071, 2155, 2559, 557, 2557, 2991, 3081, 1098, 1343, 2489, 302, 1219, 1929, 2050, 2154, 2922, 459, 1352, 405, 3161, 2248, 70, 660, 911, 1742, 3172, 2011, 801, 2553, 2713, 974, 2058, 1796, 556, 335, 597, 1731, 348, 1780, 2106, 2230, 1324, 1435, 2088, 2249, 528, 663, 894, 1189, 1775, 886, 1, 1105, 2355, 2477, 888, 895, 1733, 1818, 1820, 2595, 561, 605, 1759, 1771, 1777, 1822, 892, 887, 1797, 893, 1718, 3402, 50, 569, 944, 1036, 1382, 283, 1924, 2201, 1208, 1531, 2551, 1385, 1532, 2229, 2033, 2768, 2031, 835, 1031, 1976, 2527, 1042, 1163, 2252, 2260, 1081, 1101, 2097, 2256, 2312, 2263, 947, 2869, 1390, 2719, 1404, 2795, 1985, 1088, 824, 1049, 153, 1943, 1093, 1063, 1029, 3134, 2594, 558, 47, 1998, 2697, 503, 4225, 945, 1047, 141, 2929, 689, 1121, 2613, 147, 1251, 529, 2114]'\n",
      "2 : '[304, 7044, 600, 7524, 716, 7129, 3033, 8537, 6391, 8574, 6831, 5412, 6327, 6183, 4866, 9058, 7121, 319, 7316, 8494, 6727, 2234, 7944, 7271, 8307, 1460, 8329]'\n",
      "3 : '[1098, 1786, 1183, 796, 1087, 1761, 31, 649, 3135, 745, 596, 1095, 948, 1940, 2746, 5388, 6007, 4702, 4305, 3812, 4453, 4807, 2433, 8669, 1352, 4710, 5964, 2586, 5391, 1705, 1125, 4998, 971, 625, 3350, 1771, 503]'\n",
      "4 : '[161, 784, 399, 1127, 1996, 2527, 2309, 152, 563, 675, 514, 354, 1106, 1706, 2493, 2428, 2204, 934, 2539, 1022, 1654, 2289, 1757, 204, 486, 706, 1481, 2034, 305, 888, 179, 248, 439, 939, 529, 931, 801, 1759, 781, 1105, 1111, 1634, 554, 796, 1036, 1880, 1255, 1303, 2282, 786, 1382, 2103, 470, 1480, 597, 1362, 2605, 1469, 283, 2192, 47, 32, 1267, 223, 2364, 802, 908, 932, 1203, 790, 794, 792, 1073, 1865, 1026, 1552, 454, 1460, 211, 331, 1592, 1936, 2958, 2860, 2976, 58, 252, 328, 949, 1012, 812, 1021, 1082, 1019, 1020, 1114, 515, 2718, 1983, 3218, 2707, 2437, 1005, 1034, 1048, 1482, 2869, 1589, 2382, 941, 956, 2719, 2743, 1853, 1042, 558, 2356, 569, 1881, 1598, 918, 2643, 166, 1972, 2004, 1583, 1581, 220, 1088, 1653, 2216, 774, 1604, 122, 1401, 2853, 52, 334, 1289, 343, 2039, 2776, 780, 2639, 1007, 2357, 560, 2563, 3461, 3514, 3589, 3534, 3428, 104, 432, 3416, 235, 2241, 2961, 123, 1567, 1089, 819, 3393, 3316, 3427, 3366, 3272, 3417, 3422, 3001, 3423, 2890, 3411, 3305, 2829, 983, 935, 1831, 1605, 1655, 921, 3399, 1102, 1612, 2497, 2620, 337, 3495, 423, 1790, 2452, 45, 21, 3043, 640, 1345, 2050, 1826, 2594, 3236, 3578, 3605, 4159, 3993, 4091, 3600, 3638, 4105, 3666, 3899, 3613, 3692, 3978]'\n",
      "5 : '[556, 557, 140, 283, 366, 439, 554, 143, 330, 302, 335, 560, 108, 304, 34, 50, 350, 503, 39, 1, 562, 252, 353, 492, 21, 58, 249, 343, 559, 507, 555, 569, 36, 220, 241, 392, 561, 253, 277, 454, 510, 235]'\n"
     ]
    }
   ],
   "source": [
    "for i in list(train.keys())[:5]:\n",
    "    print(f\"{i} : '{train[i]}'\")"
   ]
  },
  {
   "cell_type": "code",
   "execution_count": 69,
   "id": "1ba327e0",
   "metadata": {},
   "outputs": [
    {
     "name": "stdout",
     "output_type": "stream",
     "text": [
      "1 : '[1699]'\n",
      "2 : '[7319]'\n",
      "3 : '[4218]'\n",
      "4 : '[4100]'\n",
      "5 : '[286]'\n"
     ]
    }
   ],
   "source": [
    "for i in list(val.keys())[:5]:\n",
    "    print(f\"{i} : '{val[i]}'\")"
   ]
  },
  {
   "cell_type": "code",
   "execution_count": 70,
   "id": "d3b9fd03",
   "metadata": {},
   "outputs": [
    {
     "name": "stdout",
     "output_type": "stream",
     "text": [
      "1 : '[2123]'\n",
      "2 : '[7205]'\n",
      "3 : '[2068]'\n",
      "4 : '[3594]'\n",
      "5 : '[453]'\n"
     ]
    }
   ],
   "source": [
    "for i in list(test.keys())[:5]:\n",
    "    print(f\"{i} : '{test[i]}'\")"
   ]
  },
  {
   "cell_type": "code",
   "execution_count": 71,
   "id": "6772f899",
   "metadata": {},
   "outputs": [
    {
     "name": "stdout",
     "output_type": "stream",
     "text": [
      "1 : 'Toy Story (1995)'\n",
      "2 : 'Jumanji (1995)'\n",
      "3 : 'Grumpier Old Men (1995)'\n",
      "4 : 'Waiting to Exhale (1995)'\n",
      "5 : 'Father of the Bride Part II (1995)'\n"
     ]
    }
   ],
   "source": [
    "for i in list(meta.keys())[:5]:\n",
    "    print(f\"{i} : '{meta[i]}'\")"
   ]
  },
  {
   "cell_type": "code",
   "execution_count": 72,
   "id": "12075a02",
   "metadata": {},
   "outputs": [
    {
     "name": "stdout",
     "output_type": "stream",
     "text": [
      "1 : '1'\n",
      "2 : '2'\n",
      "3 : '3'\n",
      "4 : '4'\n",
      "5 : '5'\n"
     ]
    }
   ],
   "source": [
    "for i in list(umap.keys())[:5]:\n",
    "    print(f\"{i} : '{umap[i]}'\")"
   ]
  },
  {
   "cell_type": "code",
   "execution_count": 73,
   "id": "418da9ed",
   "metadata": {},
   "outputs": [
    {
     "name": "stdout",
     "output_type": "stream",
     "text": [
      "1 : '1'\n",
      "2 : '2'\n",
      "3 : '3'\n",
      "4 : '4'\n",
      "5 : '5'\n"
     ]
    }
   ],
   "source": [
    "for i in list(smap.keys())[:5]:\n",
    "    print(f\"{i} : '{smap[i]}'\")"
   ]
  }
 ],
 "metadata": {
  "kernelspec": {
   "display_name": "Python 3 (ipykernel)",
   "language": "python",
   "name": "python3"
  },
  "language_info": {
   "codemirror_mode": {
    "name": "ipython",
    "version": 3
   },
   "file_extension": ".py",
   "mimetype": "text/x-python",
   "name": "python",
   "nbconvert_exporter": "python",
   "pygments_lexer": "ipython3",
   "version": "3.9.13"
  }
 },
 "nbformat": 4,
 "nbformat_minor": 5
}
