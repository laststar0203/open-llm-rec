{
 "cells": [
  {
   "cell_type": "code",
   "execution_count": 26,
   "id": "a74fe49c-da45-45c8-96c3-a9e62d8516f9",
   "metadata": {},
   "outputs": [],
   "source": [
    "import pandas as pd\n",
    "import gzip"
   ]
  },
  {
   "cell_type": "code",
   "execution_count": 27,
   "id": "ec113818-200a-4eb4-aee7-7a20c18d660a",
   "metadata": {},
   "outputs": [
    {
     "data": {
      "text/html": [
       "<div>\n",
       "<style scoped>\n",
       "    .dataframe tbody tr th:only-of-type {\n",
       "        vertical-align: middle;\n",
       "    }\n",
       "\n",
       "    .dataframe tbody tr th {\n",
       "        vertical-align: top;\n",
       "    }\n",
       "\n",
       "    .dataframe thead th {\n",
       "        text-align: right;\n",
       "    }\n",
       "</style>\n",
       "<table border=\"1\" class=\"dataframe\">\n",
       "  <thead>\n",
       "    <tr style=\"text-align: right;\">\n",
       "      <th></th>\n",
       "      <th>uid</th>\n",
       "      <th>sid</th>\n",
       "      <th>rating</th>\n",
       "      <th>timestamp</th>\n",
       "    </tr>\n",
       "  </thead>\n",
       "  <tbody>\n",
       "    <tr>\n",
       "      <th>0</th>\n",
       "      <td>A3JM6GV9MNOF9X</td>\n",
       "      <td>0558925278</td>\n",
       "      <td>3.0</td>\n",
       "      <td>1355443200</td>\n",
       "    </tr>\n",
       "    <tr>\n",
       "      <th>1</th>\n",
       "      <td>A1Z513UWSAAO0F</td>\n",
       "      <td>0558925278</td>\n",
       "      <td>5.0</td>\n",
       "      <td>1404691200</td>\n",
       "    </tr>\n",
       "    <tr>\n",
       "      <th>2</th>\n",
       "      <td>A1WMRR494NWEWV</td>\n",
       "      <td>0733001998</td>\n",
       "      <td>4.0</td>\n",
       "      <td>1382572800</td>\n",
       "    </tr>\n",
       "    <tr>\n",
       "      <th>3</th>\n",
       "      <td>A3IAAVS479H7M7</td>\n",
       "      <td>0737104473</td>\n",
       "      <td>1.0</td>\n",
       "      <td>1274227200</td>\n",
       "    </tr>\n",
       "    <tr>\n",
       "      <th>4</th>\n",
       "      <td>AKJHHD5VEH7VG</td>\n",
       "      <td>0762451459</td>\n",
       "      <td>5.0</td>\n",
       "      <td>1404518400</td>\n",
       "    </tr>\n",
       "  </tbody>\n",
       "</table>\n",
       "</div>"
      ],
      "text/plain": [
       "              uid         sid  rating   timestamp\n",
       "0  A3JM6GV9MNOF9X  0558925278     3.0  1355443200\n",
       "1  A1Z513UWSAAO0F  0558925278     5.0  1404691200\n",
       "2  A1WMRR494NWEWV  0733001998     4.0  1382572800\n",
       "3  A3IAAVS479H7M7  0737104473     1.0  1274227200\n",
       "4   AKJHHD5VEH7VG  0762451459     5.0  1404518400"
      ]
     },
     "execution_count": 27,
     "metadata": {},
     "output_type": "execute_result"
    }
   ],
   "source": [
    "# load_rating_df\n",
    "\n",
    "rating_df = pd.read_csv('../data/beauty/ratings_Beauty.csv')\n",
    "rating_df.columns = ['uid', 'sid', 'rating', 'timestamp']\n",
    "rating_df.head()"
   ]
  },
  {
   "cell_type": "code",
   "execution_count": 28,
   "id": "ead65857-5c0f-4e4f-b2aa-18d65f61e28a",
   "metadata": {
    "scrolled": true
   },
   "outputs": [
    {
     "name": "stdout",
     "output_type": "stream",
     "text": [
      "0205616461 : 'Bio-Active Anti-Aging Serum (Firming Ultra-Hydrating Serum)'\n",
      "0558925278 : 'Eco Friendly Ecotools Quality Natural Bamboo Cosmetic Mineral Brush Set Kit of 4 Soft Brushes and 1 Pouch Baby Kabuki Eye Shading Brush Mineral Powder Brush Concealer Brush(travle Size)'\n",
      "0733001998 : 'Mastiha Body Lotion'\n",
      "0737104473 : 'Hello Kitty Lustre Lipstick (See sellers comments for colors)'\n",
      "0762451459 : 'Stephanie Johnson Mermaid Round Snap Mirror'\n"
     ]
    }
   ],
   "source": [
    "# load_metadict\n",
    "\n",
    "path = \"../data/beauty/meta_Beauty.json.gz\"\n",
    "meta_dict = {}\n",
    "\n",
    "with gzip.open(path, 'rb') as f:\n",
    "    for line in f:\n",
    "        item = eval(line)\n",
    "        if 'title' in item and len(item['title']) > 0:\n",
    "            meta_dict[item['asin'].strip()] = item['title'].strip()\n",
    "\n",
    "# 5개 출력\n",
    "for i in list(meta_dict.keys())[:5]:\n",
    "    print(f\"{i} : '{meta_dict[i]}'\")\n"
   ]
  },
  {
   "cell_type": "code",
   "execution_count": 29,
   "id": "6e3ab909-43c9-4adf-a429-e588657e2d8f",
   "metadata": {},
   "outputs": [
    {
     "data": {
      "text/html": [
       "<div>\n",
       "<style scoped>\n",
       "    .dataframe tbody tr th:only-of-type {\n",
       "        vertical-align: middle;\n",
       "    }\n",
       "\n",
       "    .dataframe tbody tr th {\n",
       "        vertical-align: top;\n",
       "    }\n",
       "\n",
       "    .dataframe thead th {\n",
       "        text-align: right;\n",
       "    }\n",
       "</style>\n",
       "<table border=\"1\" class=\"dataframe\">\n",
       "  <thead>\n",
       "    <tr style=\"text-align: right;\">\n",
       "      <th></th>\n",
       "      <th>uid</th>\n",
       "      <th>sid</th>\n",
       "      <th>rating</th>\n",
       "      <th>timestamp</th>\n",
       "    </tr>\n",
       "  </thead>\n",
       "  <tbody>\n",
       "    <tr>\n",
       "      <th>0</th>\n",
       "      <td>A3JM6GV9MNOF9X</td>\n",
       "      <td>0558925278</td>\n",
       "      <td>3.0</td>\n",
       "      <td>1355443200</td>\n",
       "    </tr>\n",
       "    <tr>\n",
       "      <th>1</th>\n",
       "      <td>A1Z513UWSAAO0F</td>\n",
       "      <td>0558925278</td>\n",
       "      <td>5.0</td>\n",
       "      <td>1404691200</td>\n",
       "    </tr>\n",
       "    <tr>\n",
       "      <th>2</th>\n",
       "      <td>A1WMRR494NWEWV</td>\n",
       "      <td>0733001998</td>\n",
       "      <td>4.0</td>\n",
       "      <td>1382572800</td>\n",
       "    </tr>\n",
       "    <tr>\n",
       "      <th>3</th>\n",
       "      <td>A3IAAVS479H7M7</td>\n",
       "      <td>0737104473</td>\n",
       "      <td>1.0</td>\n",
       "      <td>1274227200</td>\n",
       "    </tr>\n",
       "    <tr>\n",
       "      <th>4</th>\n",
       "      <td>AKJHHD5VEH7VG</td>\n",
       "      <td>0762451459</td>\n",
       "      <td>5.0</td>\n",
       "      <td>1404518400</td>\n",
       "    </tr>\n",
       "  </tbody>\n",
       "</table>\n",
       "</div>"
      ],
      "text/plain": [
       "              uid         sid  rating   timestamp\n",
       "0  A3JM6GV9MNOF9X  0558925278     3.0  1355443200\n",
       "1  A1Z513UWSAAO0F  0558925278     5.0  1404691200\n",
       "2  A1WMRR494NWEWV  0733001998     4.0  1382572800\n",
       "3  A3IAAVS479H7M7  0737104473     1.0  1274227200\n",
       "4   AKJHHD5VEH7VG  0762451459     5.0  1404518400"
      ]
     },
     "execution_count": 29,
     "metadata": {},
     "output_type": "execute_result"
    }
   ],
   "source": [
    "df = rating_df.copy()\n",
    "meta_raw = meta_dict\n",
    "df = df[df['sid'].isin(meta_raw)]\n",
    "df.head()"
   ]
  },
  {
   "cell_type": "markdown",
   "id": "bb057b67-63f0-470f-98d8-d704c16f9e44",
   "metadata": {},
   "source": [
    "min_sc 과 min_uc는 하이퍼파라미터이다. 평점 개수가 적은 아이템은 제외하기 위한 용도로 보임."
   ]
  },
  {
   "cell_type": "code",
   "execution_count": 30,
   "id": "e1f91963-f666-4518-b797-96f106a901ad",
   "metadata": {},
   "outputs": [],
   "source": [
    "def filter_triplets(self, df):\n",
    "    print('Filtering triplets')\n",
    "    if self.min_sc > 1 or self.min_uc > 1:\n",
    "        item_sizes = df.groupby('sid').size()\n",
    "        good_items = item_sizes.index[item_sizes >= self.min_sc]\n",
    "        user_sizes = df.groupby('uid').size()\n",
    "        good_users = user_sizes.index[user_sizes >= self.min_uc]\n",
    "        while len(good_items) < len(item_sizes) or len(good_users) < len(user_sizes):\n",
    "            if self.min_sc > 1:\n",
    "                item_sizes = df.groupby('sid').size()\n",
    "                good_items = item_sizes.index[item_sizes >= self.min_sc]\n",
    "                df = df[df['sid'].isin(good_items)]\n",
    "\n",
    "            if self.min_uc > 1:\n",
    "                user_sizes = df.groupby('uid').size()\n",
    "                good_users = user_sizes.index[user_sizes >= self.min_uc]\n",
    "                df = df[df['uid'].isin(good_users)]\n",
    "\n",
    "            item_sizes = df.groupby('sid').size()\n",
    "            good_items = item_sizes.index[item_sizes >= self.min_sc]\n",
    "            user_sizes = df.groupby('uid').size()\n",
    "            good_users = user_sizes.index[user_sizes >= self.min_uc]\n",
    "    return df"
   ]
  },
  {
   "cell_type": "code",
   "execution_count": 31,
   "id": "f546c43f-1ba2-4368-b1c9-cf92308bc2ba",
   "metadata": {},
   "outputs": [],
   "source": [
    "min_sc = 2\n",
    "min_uc = 2"
   ]
  },
  {
   "cell_type": "code",
   "execution_count": 32,
   "id": "38353de8-cdbb-4d5e-ace7-a4769d9ed607",
   "metadata": {},
   "outputs": [],
   "source": [
    "# 내역이 하이퍼파라미터 개수보다 적은 항목은 제거\n",
    "item_sizes = df.groupby('sid').size()\n",
    "good_items = item_sizes.index[item_sizes >= min_sc]\n",
    "user_sizes = df.groupby('uid').size()\n",
    "good_users = user_sizes.index[user_sizes >= min_uc]"
   ]
  },
  {
   "cell_type": "code",
   "execution_count": 33,
   "id": "a6192d8c",
   "metadata": {},
   "outputs": [
    {
     "data": {
      "text/plain": [
       "sid\n",
       "0558925278    2\n",
       "0733001998    1\n",
       "0737104473    1\n",
       "0762451459    1\n",
       "1304139212    1\n",
       "dtype: int64"
      ]
     },
     "execution_count": 33,
     "metadata": {},
     "output_type": "execute_result"
    }
   ],
   "source": [
    "item_sizes.head()"
   ]
  },
  {
   "cell_type": "code",
   "execution_count": 34,
   "id": "dad7f6fd",
   "metadata": {},
   "outputs": [
    {
     "data": {
      "text/plain": [
       "Index(['0558925278', '130414643X', '1304168522', '1304174778', '1304174867'], dtype='object', name='sid')"
      ]
     },
     "execution_count": 34,
     "metadata": {},
     "output_type": "execute_result"
    }
   ],
   "source": [
    "good_items[:5]"
   ]
  },
  {
   "cell_type": "code",
   "execution_count": 35,
   "id": "09f51722-ce11-42df-b4f9-ff8ee456ded4",
   "metadata": {},
   "outputs": [],
   "source": [
    "# 굳이 반복문을 사용한 이유는 모르겠지만 어쨌든 개수가 적은 아이템, 유저 항목을 제거하는 작업은 맞다.\n",
    "while len(good_items) < len(item_sizes) or len(good_users) < len(user_sizes):\n",
    "        if min_sc > 1:\n",
    "            item_sizes = df.groupby('sid').size()\n",
    "            good_items = item_sizes.index[item_sizes >= min_sc]\n",
    "            df = df[df['sid'].isin(good_items)]\n",
    "\n",
    "        if min_uc > 1:\n",
    "            user_sizes = df.groupby('uid').size()\n",
    "            good_users = user_sizes.index[user_sizes >= min_uc]\n",
    "            df = df[df['uid'].isin(good_users)]\n",
    "\n",
    "        item_sizes = df.groupby('sid').size()\n",
    "        good_items = item_sizes.index[item_sizes >= min_sc]\n",
    "        user_sizes = df.groupby('uid').size()\n",
    "        good_users = user_sizes.index[user_sizes >= min_uc]"
   ]
  },
  {
   "cell_type": "code",
   "execution_count": 36,
   "id": "50e628b0-b0b4-45b7-bdab-dc3066a8a914",
   "metadata": {},
   "outputs": [],
   "source": [
    "# 정수 값 밀집화\n",
    "def densify_index(df):\n",
    "    print('Densifying index')\n",
    "    umap = {u: i for i, u in enumerate(set(df['uid']), start=1)}\n",
    "    smap = {s: i for i, s in enumerate(set(df['sid']), start=1)}\n",
    "    df['uid'] = df['uid'].map(umap)\n",
    "    df['sid'] = df['sid'].map(smap)\n",
    "    return df, umap, smap\n",
    "\n",
    "# train, val, test 데이터 분리\n",
    "def split_df(df, user_count):\n",
    "    print('Splitting')\n",
    "    user_group = df.groupby('uid')\n",
    "    user2items = user_group.apply(\n",
    "        lambda d: list(d.sort_values(by=['timestamp', 'sid'])['sid']))\n",
    "    train, val, test = {}, {}, {}\n",
    "    for i in range(user_count):\n",
    "        user = i + 1\n",
    "        items = user2items[user]\n",
    "        train[user], val[user], test[user] = items[:-2], items[-2:-1], items[-1:]\n",
    "    return train, val, test"
   ]
  },
  {
   "cell_type": "code",
   "execution_count": 37,
   "id": "34e883fb-6fee-448c-aff8-9bd14a4d45b3",
   "metadata": {},
   "outputs": [
    {
     "name": "stdout",
     "output_type": "stream",
     "text": [
      "Densifying index\n",
      "Splitting\n"
     ]
    },
    {
     "name": "stderr",
     "output_type": "stream",
     "text": [
      "C:\\Users\\sinny\\AppData\\Local\\Temp\\ipykernel_6292\\4138822388.py:14: DeprecationWarning: DataFrameGroupBy.apply operated on the grouping columns. This behavior is deprecated, and in a future version of pandas the grouping columns will be excluded from the operation. Either pass `include_groups=False` to exclude the groupings or explicitly select the grouping columns after groupby to silence this warning.\n",
      "  user2items = user_group.apply(\n"
     ]
    }
   ],
   "source": [
    "df, umap, smap = densify_index(df)\n",
    "train, val, test = split_df(df, len(umap))"
   ]
  },
  {
   "cell_type": "code",
   "execution_count": 38,
   "id": "53e29ac4-8c43-4ae2-8cc2-9f44dafbbad2",
   "metadata": {},
   "outputs": [],
   "source": [
    "meta = {smap[k]: v for k, v in meta_dict.items() if k in smap}"
   ]
  },
  {
   "cell_type": "code",
   "execution_count": 39,
   "id": "e7cfe28b",
   "metadata": {},
   "outputs": [
    {
     "name": "stdout",
     "output_type": "stream",
     "text": [
      "29791 : 'Goodskin Labs Eyliplex-2 Eye Life and Circle Reducer - 10ml'\n",
      "76720 : '*Macely* Good Afternoon Apple Cinnamon TEA Bb 30ml/1fl.zo Spa 20 Pa++ / Bb Sunblock Cream'\n",
      "610 : '*Macely* Good Afternoon Honey Black Tea -- Elastic Durable Spf20 Pa+'\n",
      "60236 : 'NEW EUROPEAN COLLECTION Too Faced Natural Eyes Shadow Palette 9 Colors'\n",
      "1127 : '*Macely* Good Afternoon Strawberry Berry Tea --Bb 30ml/1fl.zo Spa 20 Pa++ / Bb Sunblock Cream Anti-wrinkle Nourishing'\n"
     ]
    }
   ],
   "source": [
    "# 5개 출력\n",
    "for i in list(meta.keys())[:5]:\n",
    "    print(f\"{i} : '{meta[i]}'\")"
   ]
  },
  {
   "cell_type": "code",
   "execution_count": 40,
   "id": "9a4f165c-f9b3-4467-8654-82aa0aaa6dba",
   "metadata": {},
   "outputs": [],
   "source": [
    "dataset = {'train': train,\n",
    "           'val': val,\n",
    "           'test': test,\n",
    "           'meta': meta,\n",
    "           'umap': umap,\n",
    "           'smap': smap}\n"
   ]
  },
  {
   "cell_type": "code",
   "execution_count": 41,
   "id": "edc28026",
   "metadata": {},
   "outputs": [
    {
     "name": "stdout",
     "output_type": "stream",
     "text": [
      "1 : '[]'\n",
      "2 : '[47885, 24253, 52995, 57980, 18128, 44304, 87449, 96812, 2334, 66906, 2277, 6237, 11185, 15289, 21005, 36338, 49757, 53768, 69562, 71939, 84800]'\n",
      "3 : '[58290, 348]'\n",
      "4 : '[]'\n",
      "5 : '[9172]'\n"
     ]
    }
   ],
   "source": [
    "for i in list(train.keys())[:5]:\n",
    "    print(f\"{i} : '{train[i]}'\")"
   ]
  },
  {
   "cell_type": "code",
   "execution_count": 42,
   "id": "fea84440",
   "metadata": {},
   "outputs": [
    {
     "name": "stdout",
     "output_type": "stream",
     "text": [
      "1 : '[50897]'\n",
      "2 : '[85412]'\n",
      "3 : '[12314]'\n",
      "4 : '[17753]'\n",
      "5 : '[78381]'\n"
     ]
    }
   ],
   "source": [
    "for i in list(val.keys())[:5]:\n",
    "    print(f\"{i} : '{val[i]}'\")"
   ]
  },
  {
   "cell_type": "code",
   "execution_count": 43,
   "id": "52e069c4",
   "metadata": {},
   "outputs": [
    {
     "name": "stdout",
     "output_type": "stream",
     "text": [
      "1 : '[26560]'\n",
      "2 : '[96465]'\n",
      "3 : '[38771]'\n",
      "4 : '[37205]'\n",
      "5 : '[41711]'\n"
     ]
    }
   ],
   "source": [
    "for i in list(test.keys())[:5]:\n",
    "    print(f\"{i} : '{test[i]}'\")"
   ]
  },
  {
   "cell_type": "code",
   "execution_count": 44,
   "id": "b51ed338",
   "metadata": {},
   "outputs": [
    {
     "name": "stdout",
     "output_type": "stream",
     "text": [
      "29791 : 'Goodskin Labs Eyliplex-2 Eye Life and Circle Reducer - 10ml'\n",
      "76720 : '*Macely* Good Afternoon Apple Cinnamon TEA Bb 30ml/1fl.zo Spa 20 Pa++ / Bb Sunblock Cream'\n",
      "610 : '*Macely* Good Afternoon Honey Black Tea -- Elastic Durable Spf20 Pa+'\n",
      "60236 : 'NEW EUROPEAN COLLECTION Too Faced Natural Eyes Shadow Palette 9 Colors'\n",
      "1127 : '*Macely* Good Afternoon Strawberry Berry Tea --Bb 30ml/1fl.zo Spa 20 Pa++ / Bb Sunblock Cream Anti-wrinkle Nourishing'\n"
     ]
    }
   ],
   "source": [
    "for i in list(meta.keys())[:5]:\n",
    "    print(f\"{i} : '{meta[i]}'\")"
   ]
  },
  {
   "cell_type": "code",
   "execution_count": 45,
   "id": "025b0776",
   "metadata": {},
   "outputs": [
    {
     "name": "stdout",
     "output_type": "stream",
     "text": [
      "A2F0MX3FT66GL1 : '1'\n",
      "A3617VA1S2M2JC : '2'\n",
      "A255PUDQVC0RHX : '3'\n",
      "A3TALRD4RL85VG : '4'\n",
      "A2ERWAPVG5DFBJ : '5'\n"
     ]
    }
   ],
   "source": [
    "for i in list(umap.keys())[:5]:\n",
    "    print(f\"{i} : '{umap[i]}'\")"
   ]
  },
  {
   "cell_type": "code",
   "execution_count": 46,
   "id": "12ff3fd9",
   "metadata": {},
   "outputs": [
    {
     "name": "stdout",
     "output_type": "stream",
     "text": [
      "B0020MMBS0 : '1'\n",
      "B00E5DPP62 : '2'\n",
      "B001VHGI0W : '3'\n",
      "B002RT715E : '4'\n",
      "B005OZFV50 : '5'\n"
     ]
    }
   ],
   "source": [
    "for i in list(smap.keys())[:5]:\n",
    "    print(f\"{i} : '{smap[i]}'\")"
   ]
  }
 ],
 "metadata": {
  "kernelspec": {
   "display_name": "llama3",
   "language": "python",
   "name": "python3"
  },
  "language_info": {
   "codemirror_mode": {
    "name": "ipython",
    "version": 3
   },
   "file_extension": ".py",
   "mimetype": "text/x-python",
   "name": "python",
   "nbconvert_exporter": "python",
   "pygments_lexer": "ipython3",
   "version": "3.11.0"
  }
 },
 "nbformat": 4,
 "nbformat_minor": 5
}
